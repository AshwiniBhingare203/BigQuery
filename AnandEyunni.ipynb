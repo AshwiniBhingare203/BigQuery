{
 "cells": [
  {
   "cell_type": "markdown",
   "metadata": {},
   "source": [
    "#                                  FordGoBike Ride Sharing in San Francisco\n",
    "\n",
    "## Executive Summary:\n",
    "\n",
    "This report is a data driven analysis of the San Francisco bike sharing company (FordGoBike, now owned by Lyft) for the sole objective of increasing the bike ridership in the bay area. The target audience of this report is the executive leadership of FordGoBike/Lyft interested in understanding the bike ridership and customer behavior. The report uses two publicly available big datasets provided on Google cloud: san_francisco, which is a static dataset and san_francisco_bikeshare, which is a dynamic dataset updated every 15 minutes. Although the motivation for the report is academic in nature, one could mine important business and productivity implications to the ever growing traffic in the bay area. The report makes an attempt to address two important questions around the most popular commuter trips as well as recommendations for offers/deals through the mobile app to increase ridership. Based on the analysis of data, the report also provides a few interesting customer insights and then makes appropriate recommendations based on a rigorous, analytical methodology that a business consultant would apply. Our recommendation based on the below analysis is to introduce two types of passes: \"Weekend pass\" and \"Family pass\" because the bikers in this segment seem to be participating much less compared with the other segments.\n",
    "\n",
    "## Introduction:\n",
    "\n",
    "Volume ridership of customers is driven by the product, price, place and promotion (commonly referred in the business world as the 4Ps framework). \n",
    "\n",
    "Let's think about the first P, product, for a moment. There are a few products (services in this context) provided by the bikeshare company: Single ride, monthly membership, annual membership, corporate membership, bulk passes and access passes. We have data classifed into two product categories: subscriber and customer. Subscriber type could be an annual or 30 day member. Customer could be a 24 hour or 3 day member. We focus our analysis on these two types to understand their growth rates year over year. The intuition is that we want to understand which type is growing faster organically and focus on that type. Furthermore, we also want to understand which type is slower and why. \n",
    "\n",
    "The next aspect in the 4P model is the price. We do not have much information about price in the dataset but a little research on the web suggests that pricing is extremely favourable to encourage ridership. If more data and time were available, one could evaluate price elasticity to understand the incremental impact on ridership due to further reduction in price. We assume that in general pricing is at its lowest ($15/month, $149/year) although we make a recommendation on price for a particular customer segment based on an insight.\n",
    "\n",
    "The third aspect in the 4P model is the place (sales channels such as mobile, web and physical station). Clearly, our focus is on mobile because people are on the move anyway and are used to ordering cabs on the go. Unfortunately, we do not have data around mobile channel sales in the Google public dataset. Therefore, we only make educated guesses in terms of mobile penetration, customer conversion rate etc. \n",
    "\n",
    "Last but not the least is the 4th P, promotion (sales) of the ride sharing services. We do not have data about promotional aspects of the bike ridership but again make some reasonable, plausible recommendations on how to increase ridership using promotional activities.\n",
    "\n",
    "Based on the the above framework, we performed some data analysis and came up with the following insights: 1. The subscriber segment is significantly higher and growing faster at ~40% YoY on average than the customer segment (~25% YoY on average). 2. Weekday trips were 6 times higher than weekend trips in San Francisco, which means that ridership is primary used for commuting unlike, for example, in a different location such as Seattle, where bike ridership is primarily used for leisure activities (evidence out of scope for this exercise). 3. There is a heavy gender skew towards male bike riders compared with female riders. There are some other potential insights that we are not sharing in this report due to lack of complete availability of evidence.\n",
    "\n",
    "Based on the above insights, we recommend the following: \n",
    "\n",
    "1. Because bike business is a predominantly fixed costs (very expensive land, bike SG&A, IT infrastructure etc), we want to maximize ridership to full utilization at all times. Therefore, we recommend demand based pricing to optimize for 100% utilization. Currently, the utilization of bikes, especially over the weekends is very low.  Given that SFO is a popular tourist location, we recommend that the company price it appropriately (low) for the \"customer\" segment to maximize utilization over the weekend for tourist activities.\n",
    "\n",
    "2. Focus heavily on the female customer segment. This requires the company to strategically position the product for the female market by understanding the SFO female activities better. If there is a heavier presence of women near care centers or shopping centers in SFO, one could have more bike stands in those locations. There could also be special promotional deals particularly for women. The idea at the end of the day is to increase female ridership. Further data from outside sources needs to be gathered to understand gender behavior\n",
    "\n",
    "3. During weekday off-peak hours, focus on increasing the \"customer\" rides by targetted advertising and deals such as first five rides free, miles based discounts etc., so that customers are riding bikes in heavier numbers during off peak hours. Eventually, the recommendation is to agressively target the customers to convert customers into subscribers by providing them free first month rides etc.\n",
    "\n",
    "Below are some sql queries, pandas and visualizations that were used to answer the two main questions (5 most popular trips and recommendations for ridership) and to generate other customer behavioral insights.\n"
   ]
  },
  {
   "cell_type": "markdown",
   "metadata": {},
   "source": [
    "### Introduction"
   ]
  },
  {
   "cell_type": "code",
   "execution_count": 72,
   "metadata": {},
   "outputs": [],
   "source": [
    "import pandas as pd\n",
    "from pandas import DataFrame\n",
    "import matplotlib.pyplot as plt\n",
    "%matplotlib inline\n",
    "import numpy as np\n"
   ]
  },
  {
   "cell_type": "code",
   "execution_count": 6,
   "metadata": {},
   "outputs": [],
   "source": [
    "! bq query -q --use_legacy_sql=FALSE --max_rows=10000000 'SELECT trip_id, start_station_name, end_station_name, count(trip_id) as trip_freq FROM `bigquery-public-data.san_francisco.bikeshare_trips` GROUP BY trip_id, start_station_name, end_station_name ORDER BY trip_freq DESC' > results.csv"
   ]
  },
  {
   "cell_type": "code",
   "execution_count": 7,
   "metadata": {},
   "outputs": [
    {
     "name": "stdout",
     "output_type": "stream",
     "text": [
      "\n",
      "\n",
      "\t\t\tExploratory data analysis\n",
      "+-------------+\n",
      "| DataSetSize |\n",
      "+-------------+\n",
      "|      983648 |\n",
      "+-------------+\n",
      "\n",
      "\n",
      "Data Availability\n",
      "+---------------------+---------------------+\n",
      "|    MinStartDate     |     MaxEndDate      |\n",
      "+---------------------+---------------------+\n",
      "| 2013-08-29 09:08:00 | 2016-08-31 23:48:00 |\n",
      "+---------------------+---------------------+\n",
      "\n",
      "\n",
      " Bike Count\n",
      "+---------------+\n",
      "| NumberOfBikes |\n",
      "+---------------+\n",
      "|           700 |\n",
      "+---------------+\n",
      "\n",
      "\n",
      " Number of Stations\n",
      "+--------------+\n",
      "| StationCount |\n",
      "+--------------+\n",
      "|           75 |\n",
      "+--------------+\n"
     ]
    }
   ],
   "source": [
    "print('\\n\\n\\t\\t\\tExploratory data analysis')\n",
    "\n",
    "#Get the size of the data set\n",
    "! bq query -q --use_legacy_sql=FALSE  'SELECT COUNT(*) as DataSetSize FROM  `bigquery-public-data.san_francisco.bikeshare_trips`'\n",
    "\n",
    "print('\\n\\nData Availability')\n",
    "#Get the minimum start date and maximum end date\n",
    "! bq query -q --use_legacy_sql=FALSE 'SELECT min(start_date) as MinStartDate, max(end_date) as MaxEndDate FROM `bigquery-public-data.san_francisco.bikeshare_trips`'\n",
    "\n",
    "print('\\n\\n Bike Count')\n",
    "#Get the total number of bikes\n",
    "! bq query -q --use_legacy_sql=FALSE 'SELECT count(distinct bike_number) as NumberOfBikes FROM `bigquery-public-data.san_francisco.bikeshare_trips`'\n",
    "\n",
    "print('\\n\\n Number of Stations')\n",
    "#Get the total number of stations\n",
    "! bq query -q --use_legacy_sql=FALSE 'SELECT count(distinct station_id) as StationCount FROM `bigquery-public-data.san_francisco.bikeshare_status`'"
   ]
  },
  {
   "cell_type": "code",
   "execution_count": 81,
   "metadata": {},
   "outputs": [
    {
     "name": "stdout",
     "output_type": "stream",
     "text": [
      "\n",
      "\t\t\t\t\t\tTop 5 Popular Commuter Trips\n",
      "\n",
      "The below table shows the five most popular trips less than 1 hour during peak hours between two stations in 2018.\n",
      "\n",
      "\n",
      "+----------------------------------------------------+----------------------------------------------------+-----------+\n",
      "|                 start_station_name                 |                  end_station_name                  | tripcount |\n",
      "+----------------------------------------------------+----------------------------------------------------+-----------+\n",
      "| San Francisco Ferry Building (Harry Bridges Plaza) | The Embarcadero at Sansome St                      |      1272 |\n",
      "| The Embarcadero at Sansome St                      | Steuart St at Market St                            |      1017 |\n",
      "| Berry St at 4th St                                 | San Francisco Ferry Building (Harry Bridges Plaza) |      1004 |\n",
      "| San Francisco Ferry Building (Harry Bridges Plaza) | Berry St at 4th St                                 |       852 |\n",
      "| Grand Ave at Perkins St                            | 19th Street BART Station                           |       745 |\n",
      "+----------------------------------------------------+----------------------------------------------------+-----------+\n"
     ]
    }
   ],
   "source": [
    "#Commuter trip defined as any trip less than an hour between 6 AM - 10 AM and 3 PM - 7 PM on a weekday\n",
    "\n",
    "#Top 5 popular commuter trips in 2018 selected based on the total number of unique trips between \n",
    "#\"peak hours\" of 6 AM - 10 AM and 3 PM - 7 PM in 2018 for less than 1 hour between any two bike stations\n",
    "\n",
    "print('\\n\\t\\t\\t\\t\\t\\tTop 5 Popular Commuter Trips\\n')\n",
    "print('The below table shows the five most popular trips less than 1 hour during peak hours between two stations in 2018.')\n",
    "print('\\n')\n",
    "\n",
    "! bq query -q --use_legacy_sql=FALSE 'select start_station_name, end_station_name, count(*) as tripcount from `bigquery-public-data.san_francisco_bikeshare.bikeshare_trips` where (EXTRACT(YEAR FROM start_date) = 2018) and ( (EXTRACT(HOUR FROM start_date) > 6 and EXTRACT(HOUR FROM start_date) < 10) or  (EXTRACT(HOUR FROM start_date) > 15 and EXTRACT(HOUR FROM start_date) < 19) ) and   TIMESTAMP_DIFF(start_date, end_date, MINUTE) < 60  group by start_station_id, start_station_name, end_station_id, end_station_name order by tripcount desc limit 5' \n",
    "\n"
   ]
  },
  {
   "cell_type": "markdown",
   "metadata": {},
   "source": [
    "### Customer Segment Analysis\n",
    "The below tables make use realize that the two segments - Subscribers and Customers are on a different trajectory. Subscribers are many times higher than customers and continue to grow at a faster trajectory, at about ~200% year over year on average between 2013 and 2017. In the same time, customers have been growing at 17% between 2013 and 2017 on average. Clearly, it makes sense to continue to invest in the subscribers segment to grow the base even more while at the same time identify opportunities to grow the customer base. There could be many levers to do so including price manipulation and promotions."
   ]
  },
  {
   "cell_type": "code",
   "execution_count": 52,
   "metadata": {},
   "outputs": [],
   "source": [
    "# Question 1. What is the breakdown of subscribers vs customer trip counts each year? \n",
    "\n",
    "#Count taken at the end of the 35th week and Tuesday for any year (labor day issue and maximum availability of data considered, given that minimum start date is around that time)\n",
    "! bq query -q --format=csv --use_legacy_sql=FALSE 'select subscriber_type, date(start_date) as trip_date, count(*) as day_trip_count from `bigquery-public-data.san_francisco_bikeshare.bikeshare_trips` where  ( (Extract(week from start_date) = 35 and Extract(dayofweek from start_date) = 3) ) and ( (Extract(hour from start_date) > 6 and Extract(hour from start_date) < 10) or (Extract(hour from start_date) > 15 and Extract(hour from start_date) < 19)) group by subscriber_type, trip_date order by  day_trip_count desc, trip_date desc' > SegmentGrowth.csv\n",
    "\n",
    "#The above query is broken down into two other queries below - one for \"subscribers\" and the other for \"customers\"\n",
    "! bq query -q --format=csv --use_legacy_sql=FALSE 'select subscriber_type, Extract(year from start_date) as trip_year, count(*) as subscriber_trip_count from `bigquery-public-data.san_francisco_bikeshare.bikeshare_trips` where  (subscriber_type = \"Subscriber\" and (Extract(week from start_date) = 35 and Extract(dayofweek from start_date) = 3) ) and ( (Extract(hour from start_date) > 6 and Extract(hour from start_date) < 10) or (Extract(hour from start_date) > 15 and Extract(hour from start_date) < 19)) group by subscriber_type, trip_year order by trip_year desc' > SegmentGrowth_Subscriber.csv\n",
    "! bq query -q --format=csv --use_legacy_sql=FALSE 'select subscriber_type, Extract(year from start_date) as trip_year, count(*) as customer_trip_count from `bigquery-public-data.san_francisco_bikeshare.bikeshare_trips` where  (subscriber_type = \"Customer\" and (Extract(week from start_date) = 35 and Extract(dayofweek from start_date) = 3) ) and ( (Extract(hour from start_date) > 6 and Extract(hour from start_date) < 10) or (Extract(hour from start_date) > 15 and Extract(hour from start_date) < 19)) group by subscriber_type, trip_year order by trip_year desc' > SegmentGrowth_Customer.csv"
   ]
  },
  {
   "cell_type": "code",
   "execution_count": 53,
   "metadata": {},
   "outputs": [
    {
     "name": "stdout",
     "output_type": "stream",
     "text": [
      "\n",
      "\t\t   Subscriber Growth\n",
      "\n",
      "  subscriber_type  trip_year  subscriber_trip_count\n",
      "0      Subscriber       2017                   1820\n",
      "1      Subscriber       2016                    853\n",
      "2      Subscriber       2015                    891\n",
      "3      Subscriber       2014                    847\n",
      "4      Subscriber       2013                    159\n",
      "\n",
      "\n",
      "\t\t   Customer Growth\n",
      "\n",
      "  subscriber_type  trip_year  customer_trip_count\n",
      "0        Customer       2017                  221\n",
      "1        Customer       2016                   26\n",
      "2        Customer       2015                   39\n",
      "3        Customer       2014                   49\n",
      "4        Customer       2013                  117\n"
     ]
    }
   ],
   "source": [
    "# Question 2. How are the two segments growing year over year?\n",
    "\n",
    "print('\\n\\t\\t   Subscriber Growth\\n')\n",
    "subscriber_growth = pd.read_csv('SegmentGrowth_Subscriber.csv')\n",
    "print(subscriber_growth)\n",
    "\n",
    "print('\\n\\n\\t\\t   Customer Growth\\n')\n",
    "customer_growth = pd.read_csv('SegmentGrowth_Customer.csv')\n",
    "print(customer_growth)\n"
   ]
  },
  {
   "cell_type": "code",
   "execution_count": 83,
   "metadata": {},
   "outputs": [
    {
     "name": "stdout",
     "output_type": "stream",
     "text": [
      "\n",
      "The below chart shows that the subscriber segment is taking off compared with the customer segment\n"
     ]
    },
    {
     "data": {
      "image/png": "[encoded data removed]",
      "text/plain": [
       "<Figure size 432x288 with 1 Axes>"
      ]
     },
     "metadata": {
      "needs_background": "light"
     },
     "output_type": "display_data"
    }
   ],
   "source": [
    "print('\\nThe below chart shows that the subscriber segment is taking off compared with the customer segment')\n",
    "line_chart1 = plt.plot(customer_growth['trip_year'], customer_growth['customer_trip_count'])\n",
    "line_chart2 = plt.plot(subscriber_growth['trip_year'], subscriber_growth['subscriber_trip_count'])\n",
    "plt.xticks(np.arange(min(customer_growth['trip_year']), max(customer_growth['trip_year'])+1, 1.0))\n",
    "plt.xlabel('Year')\n",
    "plt.ylabel('Bike Ridership', multialignment='center')\n",
    "ax = plt.subplot(111)\n",
    "ax.legend(loc='upper center', bbox_to_anchor=(0.5, 1.25), shadow=True, ncol=2)\n",
    "plt.show()"
   ]
  },
  {
   "cell_type": "markdown",
   "metadata": {},
   "source": [
    "### Gender Analysis: \n",
    "From the below tables, we can see that male riders are three times the size of female riders in both 2017 and 2018. We will assume the same would have been the case in the years past due to the lack of data (NULL values)."
   ]
  },
  {
   "cell_type": "code",
   "execution_count": 25,
   "metadata": {},
   "outputs": [],
   "source": [
    "# Question 3. Are males and females equally likely to ride the bikeshare? \n",
    "! bq query -q --format=csv --use_legacy_sql=FALSE 'select member_gender, count(*) as  trip_count, EXTRACT(YEAR FROM start_date) as year from `bigquery-public-data.san_francisco_bikeshare.bikeshare_trips` group by member_gender, year' > gender.csv"
   ]
  },
  {
   "cell_type": "code",
   "execution_count": 85,
   "metadata": {},
   "outputs": [
    {
     "name": "stdout",
     "output_type": "stream",
     "text": [
      "There is a significantly higher number of males than females riding bikeshares in 2017 and 2018\n",
      "\n",
      "\t Riders by Gender\n",
      "  \n",
      "   member_gender  trip_count  year\n",
      "0           Male      303453  2018\n",
      "1            NaN       34196  2018\n",
      "2         Female      100581  2018\n",
      "3          Other        5841  2018\n",
      "4         Female       98621  2017\n",
      "5           Male      348318  2017\n",
      "6            NaN       66462  2017\n",
      "7          Other        6299  2017\n",
      "8            NaN      346252  2015\n",
      "9            NaN      326339  2014\n",
      "10           NaN      210494  2016\n",
      "11           NaN      100563  2013\n"
     ]
    }
   ],
   "source": [
    "segment_gender = pd.read_csv(\"gender.csv\")\n",
    "print('There is a significantly higher number of males than females riding bikeshares in 2017 and 2018')\n",
    "print('\\n\\t Riders by Gender\\n  ')\n",
    "print(segment_gender)\n"
   ]
  },
  {
   "cell_type": "markdown",
   "metadata": {},
   "source": [
    "### Weekday vs Weekend Trip Analysis:\n",
    "From the below two tables, we see that SFO primarily uses bikes for non-leisure purposes. Its usage of bikes on weekdays is 4-5 times as much its usage of bikes on weekends. It also means that bikes are lying unused over the weekend. It is a great opportunity to apply demand based pricing to keep the utilization of bikes high during the weekends. For this, a fair amount of marketing efforts and online deals will need to complement each other."
   ]
  },
  {
   "cell_type": "code",
   "execution_count": 60,
   "metadata": {},
   "outputs": [],
   "source": [
    "# Question 4. Are bikes used for business (weekdays) or leisure (weekends) in general? \n",
    "\n",
    "#The below query checks for weekend trips each year\n",
    "! bq query -q --format=csv --use_legacy_sql=FALSE 'select EXTRACT(YEAR FROM start_date) as year, count(*) as weekend_trips  from `bigquery-public-data.san_francisco_bikeshare.bikeshare_trips` where Extract(DAYOFWEEK FROM start_date) = 1 or Extract(DAYOFWEEK FROM start_date) = 7 group by year order by year desc' > weekend_trips.csv"
   ]
  },
  {
   "cell_type": "code",
   "execution_count": 61,
   "metadata": {
    "scrolled": true
   },
   "outputs": [
    {
     "name": "stdout",
     "output_type": "stream",
     "text": [
      "\n",
      "\t All Weekend Riders By Year\n",
      "  \n",
      "   year  weekend_trips\n",
      "0  2018          77602\n",
      "1  2017          96265\n",
      "2  2016          19359\n",
      "3  2015          34209\n",
      "4  2014          40309\n",
      "5  2013          17777\n"
     ]
    }
   ],
   "source": [
    "weekend_trips = pd.read_csv(\"weekend_trips.csv\")\n",
    "print('\\n\\t All Weekend Riders By Year\\n  ')\n",
    "print(weekend_trips)"
   ]
  },
  {
   "cell_type": "code",
   "execution_count": 62,
   "metadata": {
    "scrolled": true
   },
   "outputs": [],
   "source": [
    "#The below query checks for weekday trips each year\n",
    "\n",
    "! bq query -q --format=csv --use_legacy_sql=FALSE 'select EXTRACT(YEAR FROM start_date) as year, count(*) as weekday_trips  from `bigquery-public-data.san_francisco_bikeshare.bikeshare_trips` where Extract(DAYOFWEEK FROM start_date) != 1 and Extract(DAYOFWEEK FROM start_date) != 7 group by year order by year desc' > weekday_trips.csv"
   ]
  },
  {
   "cell_type": "code",
   "execution_count": 63,
   "metadata": {},
   "outputs": [
    {
     "name": "stdout",
     "output_type": "stream",
     "text": [
      "\n",
      "\t All Weekday Riders By Year\n",
      "\n",
      "   year  weekday_trips\n",
      "0  2018         366469\n",
      "1  2017         423435\n",
      "2  2016         191135\n",
      "3  2015         312043\n",
      "4  2014         286030\n",
      "5  2013          82786\n"
     ]
    }
   ],
   "source": [
    "weekday_trips = pd.read_csv(\"weekday_trips.csv\")\n",
    "print('\\n\\t All Weekday Riders By Year\\n')\n",
    "print(weekday_trips)"
   ]
  },
  {
   "cell_type": "code",
   "execution_count": 70,
   "metadata": {},
   "outputs": [
    {
     "data": {
      "image/png": "[encoded data removed]",
      "text/plain": [
       "<Figure size 432x288 with 1 Axes>"
      ]
     },
     "metadata": {
      "needs_background": "light"
     },
     "output_type": "display_data"
    }
   ],
   "source": [
    "line_chart1 = plt.plot(weekday_trips['year'], weekday_trips['weekday_trips'])\n",
    "line_chart2 = plt.plot(weekend_trips['year'], weekend_trips['weekend_trips'])\n",
    "plt.xticks(np.arange(min(weekend_trips['year']), max(weekend_trips['year'])+1, 1.0))\n",
    "plt.title('Weekend vs Weekday Trips')\n",
    "plt.xlabel('Year')\n",
    "plt.ylabel('Bike Ridership', multialignment='center')\n",
    "ax = plt.subplot(111)\n",
    "ax.legend(loc='upper center', bbox_to_anchor=(0.5, 1.25), shadow=True, ncol=2)\n",
    "plt.show()"
   ]
  },
  {
   "cell_type": "markdown",
   "metadata": {},
   "source": [
    "### Conclusion:\n",
    "\n",
    "In short, we conclude that there are opportunities to grow female riders and weekend customers. Our recommendation is to add a new \"Family Pass\" and \"Weekend Pass\", where bikes can be used by the family to take short trips or even long hikes during weekends. These passes serve in two ways. First, these passes will (hopefully) bring more women to ride bikes. The passes will also leverage excess capacity of bikes during the weekend and grow the \"customer\" type of segment. \n",
    "\n",
    "If we could perform further analysis, we should ponder some questions. For example: 1. At what rate is the bikeshare industry growing in general and SFO in particular? 2. At what rate are our competitors growing? 3. At what rate are alternative modes of rideshare and public transportation growing? 4. What is our market share compared to other modes of transportation? 5. Can this company launch in other first and second tier cities with the same strategy? Doing so will help our objective of increasing ridership even further. "
   ]
  }
 ],
 "metadata": {
  "kernelspec": {
   "display_name": "Python 3",
   "language": "python",
   "name": "python3"
  },
  "language_info": {
   "codemirror_mode": {
    "name": "ipython",
    "version": 3
   },
   "file_extension": ".py",
   "mimetype": "text/x-python",
   "name": "python",
   "nbconvert_exporter": "python",
   "pygments_lexer": "ipython3",
   "version": "3.6.8"
  }
 },
 "nbformat": 4,
 "nbformat_minor": 2
}
